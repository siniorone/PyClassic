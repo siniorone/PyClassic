{
 "cells": [
  {
   "cell_type": "markdown",
   "metadata": {},
   "source": [
    "# Calculating pi\n",
    "\n",
    "### Leibniz formula for π\n",
    "```Wikipedia:```In mathematics, the Leibniz formula for π, named after Gottfried Leibniz, states that \n",
    "\n",
    "$1 - \\frac{1}{3} + \\frac{1}{5} - \\frac{1}{7} + \\frac{1}{9} - ... = \\frac{\\pi}{4} $\n",
    "\n",
    "$\\pi = 4 - \\frac{4}{3} + \\frac{4}{5} - \\frac{4}{7} + \\frac{4}{9} - ...  $\n"
   ]
  },
  {
   "cell_type": "code",
   "execution_count": 1,
   "metadata": {},
   "outputs": [],
   "source": [
    "# Lets Calculate Pi based on the Leibniz Formula to nth terms\n",
    "from itertools import cycle\n",
    "from typing import Iterator\n",
    "\n",
    "def pi_leibniz(n: int) -> float:\n",
    "    \"\"\"\n",
    "    Calculate Pi to nth terms using Leibniz Formula\n",
    "    \"\"\"\n",
    "    # create an iterator of 1 and -1\n",
    "    switch: Iterator = cycle([1, -1])\n",
    "    # set the initial value of first term\n",
    "    nominator: int = 4\n",
    "    dominator: int = 1\n",
    "    # set the initial value of pi\n",
    "    pi: float = 0\n",
    "    # loop through the n terms of the Leibniz Formula\n",
    "    for i in range(n):\n",
    "        # add the fraction to pi\n",
    "        pi += (nominator / dominator) * next(switch)\n",
    "        # update the denominator by adding 2 to it\n",
    "        dominator += 2\n",
    "    return pi"
   ]
  },
  {
   "cell_type": "code",
   "execution_count": 2,
   "metadata": {},
   "outputs": [
    {
     "data": {
      "text/plain": [
       "3.141592"
      ]
     },
     "execution_count": 2,
     "metadata": {},
     "output_type": "execute_result"
    }
   ],
   "source": [
    "round(pi_leibniz(int(1e6)), 6)"
   ]
  }
 ],
 "metadata": {
  "interpreter": {
   "hash": "916dbcbb3f70747c44a77c7bcd40155683ae19c65e1c03b4aa3499c5328201f1"
  },
  "kernelspec": {
   "display_name": "Python 3.8.10 64-bit",
   "language": "python",
   "name": "python3"
  },
  "language_info": {
   "codemirror_mode": {
    "name": "ipython",
    "version": 3
   },
   "file_extension": ".py",
   "mimetype": "text/x-python",
   "name": "python",
   "nbconvert_exporter": "python",
   "pygments_lexer": "ipython3",
   "version": "3.9.7"
  },
  "orig_nbformat": 4
 },
 "nbformat": 4,
 "nbformat_minor": 2
}
