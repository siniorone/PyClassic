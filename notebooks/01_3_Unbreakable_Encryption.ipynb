{
 "cells": [
  {
   "cell_type": "markdown",
   "metadata": {},
   "source": [
    "# Unbreakable encryption\n",
    "\n",
    "### OTP\n",
    "```Wikipedia:```\n",
    "In cryptography, the one-time pad (OTP) is an encryption technique that cannot be cracked, but requires the use of a single-use pre-shared key that is no smaller than the message being sent. In this technique, a plaintext is paired with a random secret key (also referred to as a one-time pad). Then, each bit or character of the plaintext is encrypted by combining it with the corresponding bit or character from the pad using modular addition.\n",
    "\n",
    "The resulting ciphertext will be impossible to decrypt or break if the following four conditions are met:\n",
    "\n",
    "* The key must be at least as long as the plaintext.\n",
    "* The key must be random (uniformly distributed in the set of all possible keys and independent of the plaintext), entirely sampled from a non-algorithmic, chaotic source such as a hardware random number generator. It is not sufficient for OTP keys to pass statistical randomness tests as such tests cannot measure entropy, and the number of bits of entropy must be at least equal to the number of bits in the plaintext. For example, using cryptographic hashes or mathematical functions (such as logarithm or square root) to generate keys from fewer bits of entropy would break the uniform distribution requirement, and therefore would not provide perfect secrecy.\n",
    "* The key must never be reused in whole or in part.\n",
    "* The key must be kept completely secret by the communicating parties.\n",
    "\n",
    "***\n",
    "\n",
    "\n",
    "The **[secrets](https://docs.python.org/3/library/secrets.html)** module is used for generating cryptographically strong random numbers suitable for managing data such as passwords, account authentication, security tokens, and related secrets.\n",
    "\n",
    "In particular, secrets should be used in preference to the default pseudo-random number generator in the random module, which is designed for modelling and simulation, not security or cryptography.\n",
    "\n",
    "more about random generators : https://en.wikipedia.org/wiki/Random_number_generation\n",
    "\n",
    "***"
   ]
  },
  {
   "cell_type": "code",
   "execution_count": 1,
   "metadata": {},
   "outputs": [],
   "source": [
    "from secrets import randbits, token_bytes"
   ]
  },
  {
   "cell_type": "code",
   "execution_count": 2,
   "metadata": {},
   "outputs": [
    {
     "data": {
      "text/plain": [
       "'0b1011'"
      ]
     },
     "execution_count": 2,
     "metadata": {},
     "output_type": "execute_result"
    }
   ],
   "source": [
    "bin(randbits(5))"
   ]
  },
  {
   "cell_type": "code",
   "execution_count": 3,
   "metadata": {},
   "outputs": [
    {
     "data": {
      "text/plain": [
       "'0b11001'"
      ]
     },
     "execution_count": 3,
     "metadata": {},
     "output_type": "execute_result"
    }
   ],
   "source": [
    "bin(randbits(5))"
   ]
  },
  {
   "cell_type": "code",
   "execution_count": 4,
   "metadata": {},
   "outputs": [
    {
     "data": {
      "text/plain": [
       "b\"'\\x960\\x85\\xaaT0\\x16&\\xe2N\\xd45\\xf9s\\xb9l\\xe8\\xc4i\""
      ]
     },
     "execution_count": 4,
     "metadata": {},
     "output_type": "execute_result"
    }
   ],
   "source": [
    "token_bytes(20)"
   ]
  },
  {
   "cell_type": "code",
   "execution_count": 5,
   "metadata": {},
   "outputs": [
    {
     "name": "stdout",
     "output_type": "stream",
     "text": [
      "The secret message is: This message must be kept private, so OTP-method encryption is used to keep it secret.\n"
     ]
    }
   ],
   "source": [
    "secret_message = \"The secret message is: This message must be kept private, \\\n",
    "so OTP-method encryption is used to keep it secret.\"\n",
    "\n",
    "print(f\"{secret_message}\")"
   ]
  },
  {
   "cell_type": "code",
   "execution_count": 6,
   "metadata": {},
   "outputs": [],
   "source": [
    "\n",
    "class OneTimePad:\n",
    "    \"\"\"\n",
    "    This Class is used to encrypt and decrypt messages with One Time Pad method.\n",
    "    \"\"\"\n",
    "    # Get the secret message and call the encrypt method and generate_key method\n",
    "    def __init__(self: object, original_message: str) -> None:\n",
    "            self.key = self._generate_key(original_message)\n",
    "            self.chiper = self._encrypt(key=self.key, message=original_message)\n",
    "    \n",
    "    def _generate_key(self, message: str) -> int:\n",
    "        \"\"\"\n",
    "        This method generates a random key based on the message.\n",
    "        \"\"\"\n",
    "        # Create Random byte base on the message length\n",
    "        token = token_bytes(len(message))\n",
    "        # Convert the random bytes to int\n",
    "        return int.from_bytes(token, byteorder=\"big\")\n",
    "\n",
    "    def _encrypt(self,*, key: int, message: str) -> int:\n",
    "        \"\"\"\n",
    "        This method encrypts the message with the key. XOR operation is used.\n",
    "        \"\"\"\n",
    "        # Get the message bytes\n",
    "        message_bytes = message.encode()\n",
    "        # Convert the message bytes to int\n",
    "        message_bin = int.from_bytes(message_bytes, byteorder=\"big\")\n",
    "        # XOR the message with the key and return the encrypted message we named chiper\n",
    "        return  message_bin ^ key\n",
    "\n",
    "    def decrypt(self,*,key: int, chiper: int) -> str:\n",
    "        \"\"\"\n",
    "        This method decrypts the chiper with the key. XOR operation is used.\n",
    "        \"\"\"\n",
    "        # XOR the chiper with the key and return the binary message\n",
    "        message_bin = key ^ chiper\n",
    "        # Convert the binary message to bytes\n",
    "        message_bytes = message_bin.to_bytes((message_bin.bit_length() + 7) // 8, byteorder=\"big\")\n",
    "        # Convert the bytes to string and return the message\n",
    "        return message_bytes.decode()\n"
   ]
  },
  {
   "cell_type": "code",
   "execution_count": 7,
   "metadata": {},
   "outputs": [
    {
     "name": "stdout",
     "output_type": "stream",
     "text": [
      "Key: 0b10100101110101001010001101001000000101101011100100000111100001110100000110010001111100000100100111011010001111000000101001111111001110001101000000100001111110000000001101101101011010111101100111111010110011000100000110011000111011110011101101011010001001010000010000000001111000010110001100000000110000011011101101110101110001011111010011001100010000101110000101001011010100101101111011111110000100110110001000001010000101001000001101010000001010000000010101010111000001111110101011101111100001101111101110110100011110010010000001011101000100010000110100000101001110111010001010100100110101000001001000000000100011110010011001100110100111100101001111110111101111101100000101001111001101111100011111001001011111011001111000000111111110011010001010001101100000100000000110001110000110110011111000111001110000101010111100011110001111110100010011111001001101001011110001101000\n",
      "Chiper: 0b11110001101111001100011001101000011001011101110001100100111101010010010011100101110100000010010010111111010011110111100100011110010111111011010100000001100100010111000001010111010010111000110110010010101001010011001010111000100000100101111000101001010101100110010101100110100001000100001101101101101101001100100000000001111001011001011010101001011000101000101000101110001000101010101011011110011000110001000001100011011000101110001000100100010011010010100101110111011101001000010111001111110010011010111111100100010101000100110100111000011001010110010101101010010111111000001011000001101110100111000101110010111101100101011000010010111101110011110010011001100111101010100000111100000101111011001010111010000110001111101000100111100011011100110110101101111010010110010011101011011010110001111001010000101101101000111101101101010110100010011110001011010100011100100001000110\n"
     ]
    }
   ],
   "source": [
    "# Create a OneTimePad object\n",
    "OTP = OneTimePad(secret_message)\n",
    "# Get the key and chiper from the OneTimePad object\n",
    "key = OTP.key\n",
    "chiper = OTP.chiper\n",
    "# print the key and chiper\n",
    "print(f\"Key: {bin(key)}\")\n",
    "print(f\"Chiper: {bin(chiper)}\")"
   ]
  },
  {
   "cell_type": "code",
   "execution_count": 8,
   "metadata": {},
   "outputs": [
    {
     "name": "stdout",
     "output_type": "stream",
     "text": [
      "Decrypted message: The secret message is: This message must be kept private, so OTP-method encryption is used to keep it secret.\n"
     ]
    }
   ],
   "source": [
    "# Decrypt the chiper with the key and print the original message\n",
    "print(f\"Decrypted message: {OTP.decrypt(key=key, chiper=chiper)}\")"
   ]
  }
 ],
 "metadata": {
  "interpreter": {
   "hash": "4ad2f88a263a6a2b65764c2632477ad9f3007975486c2226f2c86513342d2394"
  },
  "kernelspec": {
   "display_name": "Python 3.9.7 64-bit ('spark': conda)",
   "language": "python",
   "name": "python3"
  },
  "language_info": {
   "codemirror_mode": {
    "name": "ipython",
    "version": 3
   },
   "file_extension": ".py",
   "mimetype": "text/x-python",
   "name": "python",
   "nbconvert_exporter": "python",
   "pygments_lexer": "ipython3",
   "version": "3.9.7"
  },
  "orig_nbformat": 4
 },
 "nbformat": 4,
 "nbformat_minor": 2
}
